{
 "cells": [
  {
   "cell_type": "markdown",
   "metadata": {},
   "source": [
    "### Accept three subjects marks of a student\n",
    "and check whether he got minimum 30 marks in all subjects or not \n",
    "if he scores minimum 30 in all then find average else print FAIL.\n",
    "avg>75-->A\n",
    "avg>60 and avg<75-->B\n",
    "avg>45 and avg<60-->C\n",
    "avg>30 and avg<45-->D\n",
    "else FAIL\n"
   ]
  },
  {
   "cell_type": "code",
   "execution_count": 3,
   "metadata": {},
   "outputs": [
    {
     "name": "stdout",
     "output_type": "stream",
     "text": [
      "enter subject1 marks60\n",
      "enter subject2 marks60\n",
      "enter subject3 marks60\n",
      "B\n"
     ]
    }
   ],
   "source": [
    "m1 = int(input(\"enter subject1 marks\"))\n",
    "m2 = int(input(\"enter subject2 marks\"))\n",
    "m3 = int(input(\"enter subject3 marks\"))\n",
    "if (m1>=30 and m2>=30 and m3>=30):\n",
    "    avg = (m1+m2+m3)/3\n",
    "    if avg>=75:\n",
    "        print(\"A\")\n",
    "    elif avg>=60 and avg<75:\n",
    "        print(\"B\")\n",
    "    elif avg>=45 and avg<60:\n",
    "        print(\"C\")\n",
    "    elif avg>=30 and avg<45:\n",
    "        print(\"D\")\n",
    "else:\n",
    "    print(\"FAIL\")\n",
    "    "
   ]
  },
  {
   "cell_type": "code",
   "execution_count": 5,
   "metadata": {
    "collapsed": true
   },
   "outputs": [
    {
     "name": "stdout",
     "output_type": "stream",
     "text": [
      "1\n",
      "2\n",
      "3\n",
      "4\n",
      "5\n",
      "6\n",
      "7\n",
      "8\n",
      "9\n",
      "10\n"
     ]
    }
   ],
   "source": [
    "i = 1\n",
    "while i<=10:\n",
    "    print(i)\n",
    "    i+=1"
   ]
  },
  {
   "cell_type": "code",
   "execution_count": 6,
   "metadata": {},
   "outputs": [
    {
     "name": "stdout",
     "output_type": "stream",
     "text": [
      "enter a number456\n",
      "6\n",
      "5\n",
      "4\n"
     ]
    }
   ],
   "source": [
    "#Accept a number as an input and print \n",
    "#digits of the given number.\n",
    "#input:456\n",
    "#output:\n",
    "# 6\n",
    "# 5\n",
    "# 4\n",
    "n = int(input(\"enter a number\"))\n",
    "while n!=0:\n",
    "    print(n%10)\n",
    "    n=n//10"
   ]
  },
  {
   "cell_type": "code",
   "execution_count": 8,
   "metadata": {
    "collapsed": true
   },
   "outputs": [
    {
     "name": "stdout",
     "output_type": "stream",
     "text": [
      "1\n",
      "3\n",
      "5\n",
      "7\n",
      "9\n"
     ]
    }
   ],
   "source": [
    "for i in range(1,11,2):\n",
    "    print(i)"
   ]
  },
  {
   "cell_type": "code",
   "execution_count": 10,
   "metadata": {},
   "outputs": [
    {
     "data": {
      "text/plain": [
       "(10+8j)"
      ]
     },
     "execution_count": 10,
     "metadata": {},
     "output_type": "execute_result"
    }
   ],
   "source": [
    "#Data types:\n",
    "#Fundamental DT:int,float,complex,Booelan,string\n",
    "#collection DT:list,tuple,set,dictionary\n",
    "x = 4+5j\n",
    "y = complex(6,3)\n",
    "x+y"
   ]
  },
  {
   "cell_type": "code",
   "execution_count": 15,
   "metadata": {
    "collapsed": true
   },
   "outputs": [
    {
     "name": "stdout",
     "output_type": "stream",
     "text": [
      "t\n",
      "tam\n",
      "gtm\n",
      "matig\n"
     ]
    }
   ],
   "source": [
    "s = \"gitam\"\n",
    "print(s[2])\n",
    "print(s[2:5])\n",
    "print(s[0:len(s):2])\n",
    "print(s[::-1])"
   ]
  },
  {
   "cell_type": "code",
   "execution_count": 16,
   "metadata": {},
   "outputs": [
    {
     "name": "stdout",
     "output_type": "stream",
     "text": [
      "enter a stringmadam\n",
      "palindrome\n"
     ]
    }
   ],
   "source": [
    "#Accept a string as an input and\n",
    "#check whether it is palindrome or not\n",
    "s = input(\"enter a string\")\n",
    "if s==s[::-1]:\n",
    "    print(\"palindrome\")\n",
    "else:\n",
    "    print(\"not a palindrome\")"
   ]
  },
  {
   "cell_type": "code",
   "execution_count": 18,
   "metadata": {},
   "outputs": [
    {
     "data": {
      "text/plain": [
       "'Abc xyz'"
      ]
     },
     "execution_count": 18,
     "metadata": {},
     "output_type": "execute_result"
    }
   ],
   "source": [
    "s = \"abc xyz\"\n",
    "s.capitalize()"
   ]
  },
  {
   "cell_type": "markdown",
   "metadata": {},
   "source": [
    "#### Built-in methods:\n",
    "1. capitalize()\n",
    "2. replace()\n",
    "3. isalpha()\n",
    "4. isdigit()\n",
    "5. isalnum()\n",
    "6. isupper()\n",
    "7. islower()\n",
    "8. split()\n",
    "9. count()\n",
    "10. upper()\n",
    "11. lower()\n",
    "12. swapcase()"
   ]
  },
  {
   "cell_type": "markdown",
   "metadata": {},
   "source": [
    "#### Questions:\n",
    "1. Accpet a string and count the no.of alphabets,digits,lower case and upper case characters and vowels in the given string\n",
    "2. - input: (((((()())))\n",
    "   - output:4"
   ]
  },
  {
   "cell_type": "code",
   "execution_count": null,
   "metadata": {},
   "outputs": [],
   "source": []
  }
 ],
 "metadata": {
  "kernelspec": {
   "display_name": "Python 3",
   "language": "python",
   "name": "python3"
  },
  "language_info": {
   "codemirror_mode": {
    "name": "ipython",
    "version": 3
   },
   "file_extension": ".py",
   "mimetype": "text/x-python",
   "name": "python",
   "nbconvert_exporter": "python",
   "pygments_lexer": "ipython3",
   "version": "3.7.3"
  }
 },
 "nbformat": 4,
 "nbformat_minor": 2
}
