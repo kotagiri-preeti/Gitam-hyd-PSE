{
 "cells": [
  {
   "cell_type": "code",
   "execution_count": 6,
   "metadata": {},
   "outputs": [
    {
     "name": "stdout",
     "output_type": "stream",
     "text": [
      "20\n",
      "3\n",
      "10\n",
      "30\n",
      "<class 'tuple'> [1, 2, 3]\n"
     ]
    }
   ],
   "source": [
    "#List:\n",
    "list1 = [10,20,30]\n",
    "x = 1,2,3\n",
    "print(list1[1])\n",
    "print(len(list1))\n",
    "print(min(list1))\n",
    "print(max(list1))\n",
    "print(type(x),list(x))"
   ]
  },
  {
   "cell_type": "code",
   "execution_count": 8,
   "metadata": {},
   "outputs": [
    {
     "name": "stdout",
     "output_type": "stream",
     "text": [
      "[10, 100, 20, 200, 30, 4, 5, 4, 5]\n",
      "[10, 100, 100, 200, 20, 200, 30, 4, 5, 4, 5]\n",
      "[10, 100, 100, 200, 20, 200, 30, 4, 5, 4, 5, 1, 2, 3]\n"
     ]
    }
   ],
   "source": [
    "#inserting elements into the list\n",
    "list1.append(4)\n",
    "list1.append(5)\n",
    "print(list1)\n",
    "list1.insert(1,100)\n",
    "list1.insert(3,200)\n",
    "print(list1)\n",
    "list1.extend([1,2,3])\n",
    "print(list1)"
   ]
  },
  {
   "cell_type": "code",
   "execution_count": 10,
   "metadata": {},
   "outputs": [
    {
     "name": "stdout",
     "output_type": "stream",
     "text": [
      "2\n",
      "100\n",
      "None\n",
      "[10, 20, 30, 4, 5, 4, 5, 1]\n",
      "[]\n"
     ]
    }
   ],
   "source": [
    "print(list1.pop())\n",
    "print(list1.pop(1))\n",
    "print(list1.remove(200))\n",
    "print(list1)\n",
    "list1.clear()\n",
    "print(list1)"
   ]
  },
  {
   "cell_type": "code",
   "execution_count": 13,
   "metadata": {},
   "outputs": [
    {
     "name": "stdout",
     "output_type": "stream",
     "text": [
      "[30, 20, 10, 5, 5, 4, 4, 1]\n"
     ]
    }
   ],
   "source": [
    "list2 = [10, 20, 30, 4, 5, 4, 5, 1]\n",
    "list2.sort(reverse=True)\n",
    "print(list2)"
   ]
  },
  {
   "cell_type": "code",
   "execution_count": 16,
   "metadata": {},
   "outputs": [
    {
     "name": "stdout",
     "output_type": "stream",
     "text": [
      "[1, 4, 4, 5, 5, 10, 20, 30]\n"
     ]
    }
   ],
   "source": [
    "list2.reverse()\n",
    "print(list2)"
   ]
  },
  {
   "cell_type": "code",
   "execution_count": 17,
   "metadata": {},
   "outputs": [
    {
     "data": {
      "text/plain": [
       "2"
      ]
     },
     "execution_count": 17,
     "metadata": {},
     "output_type": "execute_result"
    }
   ],
   "source": [
    "list2.count(5)"
   ]
  },
  {
   "cell_type": "code",
   "execution_count": 18,
   "metadata": {},
   "outputs": [
    {
     "data": {
      "text/plain": [
       "1"
      ]
     },
     "execution_count": 18,
     "metadata": {},
     "output_type": "execute_result"
    }
   ],
   "source": [
    "list2.index(4)"
   ]
  },
  {
   "cell_type": "code",
   "execution_count": 22,
   "metadata": {},
   "outputs": [
    {
     "name": "stdout",
     "output_type": "stream",
     "text": [
      "12 23 34 45 56 5 67 78 8 90 100 \n",
      "12 23 34 45 56 5 67 78 8 90 100 "
     ]
    }
   ],
   "source": [
    "list3 = [12,23,34,45,56,5,67,78,8,90,100]\n",
    "for i in range(0,len(list3)):\n",
    "    print(list3[i],end=\" \")\n",
    "print()\n",
    "for i in list3:\n",
    "    print(i,end=\" \")"
   ]
  },
  {
   "cell_type": "code",
   "execution_count": 23,
   "metadata": {},
   "outputs": [
    {
     "name": "stdout",
     "output_type": "stream",
     "text": [
      "360\n"
     ]
    }
   ],
   "source": [
    "list3 = [12,23,34,45,56,5,67,78,8,90,100]\n",
    "#ouput:360\n",
    "s = sum(list3)\n",
    "s1 = 0\n",
    "for i in range(list3.index(5),list3.index(8)+1):\n",
    "    s1 += list3[i]\n",
    "print(s-s1)"
   ]
  },
  {
   "cell_type": "code",
   "execution_count": null,
   "metadata": {},
   "outputs": [],
   "source": [
    "#Tuple:\n",
    "t1 = (1,2,324,45)\n"
   ]
  },
  {
   "cell_type": "code",
   "execution_count": 27,
   "metadata": {},
   "outputs": [
    {
     "name": "stdout",
     "output_type": "stream",
     "text": [
      "{1, 2, 3, 4, 5, 6, 7, 8}\n",
      "{4, 5}\n",
      "{1, 2, 3}\n",
      "{8, 6, 7}\n",
      "False\n",
      "False\n",
      "False\n",
      "False\n",
      "False\n"
     ]
    }
   ],
   "source": [
    "A = {1,2,3,4,5}\n",
    "B = {4,5,6,7,8}\n",
    "print(A.union(B))#A U B\n",
    "print(A.intersection(B))\n",
    "print(A.difference(B))#A-B\n",
    "print(B.difference(A))#B-A\n",
    "print(A.issubset(B))\n",
    "print(B.issubset(A))\n",
    "print(A.issuperset(B))\n",
    "print(B.issuperset(A))\n",
    "print(A.isdisjoint(B))"
   ]
  },
  {
   "cell_type": "code",
   "execution_count": 32,
   "metadata": {},
   "outputs": [
    {
     "name": "stdout",
     "output_type": "stream",
     "text": [
      "{'name': 'preeti', 'college': 'OU', 'course': 'python'}\n",
      "3\n",
      "dict_keys(['name', 'college', 'course'])\n",
      "dict_values(['preeti', 'OU', 'python'])\n",
      "dict_items([('name', 'preeti'), ('college', 'OU'), ('course', 'python')])\n",
      "{'name': 'preeti', 'course': 'python'}\n"
     ]
    }
   ],
   "source": [
    "#Dictionary:\n",
    "dict1 = {\"name\":\"preeti\",\"college\":\"OU\"}\n",
    "dict1[\"course\"] = \"python\"#adding a new entry\n",
    "print(dict1)\n",
    "print(len(dict1))\n",
    "print(dict1.keys())\n",
    "print(dict1.values())\n",
    "print(dict1.items())\n",
    "del dict1[\"college\"]#removing an entry from the dictionary\n",
    "print(dict1)"
   ]
  },
  {
   "cell_type": "code",
   "execution_count": 34,
   "metadata": {},
   "outputs": [
    {
     "name": "stdout",
     "output_type": "stream",
     "text": [
      "30 -10 200 0.5\n",
      "50\n",
      "None\n"
     ]
    }
   ],
   "source": [
    "#Functions:\n",
    "def add(x,y):\n",
    "    print(x+y)\n",
    "    \n",
    "def add1(x,y):\n",
    "    return x+y,x-y,x*y,x/y\n",
    "\n",
    "a,b,c,d = add1(10,20)\n",
    "print(a,b,c,d)\n",
    "print(add(20,30))"
   ]
  },
  {
   "cell_type": "code",
   "execution_count": 35,
   "metadata": {},
   "outputs": [
    {
     "name": "stdout",
     "output_type": "stream",
     "text": [
      "1\n",
      "2\n",
      "4\n"
     ]
    }
   ],
   "source": [
    "#unpacking\n",
    "tup1 = (1,2,4)\n",
    "x,y,z = tup1\n",
    "print(x)\n",
    "print(y)\n",
    "print(z)\n"
   ]
  },
  {
   "cell_type": "code",
   "execution_count": 36,
   "metadata": {},
   "outputs": [
    {
     "name": "stdout",
     "output_type": "stream",
     "text": [
      "120\n",
      "6\n"
     ]
    }
   ],
   "source": [
    "def factorial(n):\n",
    "    fact = 1\n",
    "    for i in range(1,n+1):\n",
    "        fact*=i\n",
    "    print(fact)\n",
    "factorial(5)#120\n",
    "factorial(3)#6"
   ]
  },
  {
   "cell_type": "code",
   "execution_count": 37,
   "metadata": {},
   "outputs": [],
   "source": [
    "#File handling\n",
    "f = open(\"data.txt\",'w')\n",
    "f.write(\"Hello everyone!!!\")\n",
    "f.close()"
   ]
  },
  {
   "cell_type": "code",
   "execution_count": 38,
   "metadata": {},
   "outputs": [
    {
     "name": "stdout",
     "output_type": "stream",
     "text": [
      "Hello everyone!!!\n"
     ]
    }
   ],
   "source": [
    "#Reading a file\n",
    "f = open(\"data.txt\",'r')\n",
    "data = f.read()\n",
    "print(data)"
   ]
  },
  {
   "cell_type": "code",
   "execution_count": 39,
   "metadata": {},
   "outputs": [],
   "source": [
    "f = open(\"data.txt\",'a')\n",
    "f.write(\"Good afternoon!!!\")\n",
    "f.close()"
   ]
  },
  {
   "cell_type": "code",
   "execution_count": 40,
   "metadata": {},
   "outputs": [
    {
     "name": "stdout",
     "output_type": "stream",
     "text": [
      "10\n"
     ]
    }
   ],
   "source": [
    "#oop's:\n",
    "class A:\n",
    "    x = 10\n",
    "a = A()#instantiation\n",
    "print(a.x)"
   ]
  },
  {
   "cell_type": "code",
   "execution_count": 41,
   "metadata": {},
   "outputs": [
    {
     "name": "stdout",
     "output_type": "stream",
     "text": [
      "display method\n"
     ]
    }
   ],
   "source": [
    "class Abc:\n",
    "    def display(self):\n",
    "        print(\"display method\")\n",
    "a = Abc()\n",
    "a.display()    "
   ]
  },
  {
   "cell_type": "code",
   "execution_count": 42,
   "metadata": {},
   "outputs": [
    {
     "name": "stdout",
     "output_type": "stream",
     "text": [
      "display method values are 10 20\n"
     ]
    }
   ],
   "source": [
    "class Abc:\n",
    "    def display(self,a,b):\n",
    "        print(\"display method values are\",a,b)\n",
    "a = Abc()\n",
    "a.display(10,20)  "
   ]
  },
  {
   "cell_type": "code",
   "execution_count": 44,
   "metadata": {},
   "outputs": [
    {
     "name": "stdout",
     "output_type": "stream",
     "text": [
      "constructor method is called 10 20\n"
     ]
    }
   ],
   "source": [
    "class Abc:\n",
    "    def __init__(self,a,b):\n",
    "        print(\"constructor method is called\",a,b)\n",
    "a = Abc(10,20)"
   ]
  },
  {
   "cell_type": "code",
   "execution_count": 45,
   "metadata": {},
   "outputs": [
    {
     "name": "stdout",
     "output_type": "stream",
     "text": [
      "30\n"
     ]
    }
   ],
   "source": [
    "class Abc:\n",
    "    def __init__(self,a,b):\n",
    "        self.a = a\n",
    "        self.b = b\n",
    "    def add(self):\n",
    "        print(self.a+self.b)\n",
    "a = Abc(10,20)\n",
    "a.add()"
   ]
  },
  {
   "cell_type": "code",
   "execution_count": null,
   "metadata": {},
   "outputs": [],
   "source": []
  }
 ],
 "metadata": {
  "kernelspec": {
   "display_name": "Python 3",
   "language": "python",
   "name": "python3"
  },
  "language_info": {
   "codemirror_mode": {
    "name": "ipython",
    "version": 3
   },
   "file_extension": ".py",
   "mimetype": "text/x-python",
   "name": "python",
   "nbconvert_exporter": "python",
   "pygments_lexer": "ipython3",
   "version": "3.7.3"
  }
 },
 "nbformat": 4,
 "nbformat_minor": 2
}
