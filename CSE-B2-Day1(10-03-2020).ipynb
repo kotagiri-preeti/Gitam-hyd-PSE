{
 "cells": [
  {
   "cell_type": "code",
   "execution_count": null,
   "metadata": {},
   "outputs": [],
   "source": [
    "#Accept a string from the user and print alternate characters on the screen\n",
    "#input : python     output:pto\n",
    "s = input(\"enter a string\")#python\n",
    "print(s[2])\n",
    "print(s[2:6])\n",
    "print(s[0:6:2])"
   ]
  },
  {
   "cell_type": "code",
   "execution_count": 2,
   "metadata": {},
   "outputs": [
    {
     "name": "stdout",
     "output_type": "stream",
     "text": [
      "enter a stringmadam\n",
      "palindrome\n"
     ]
    }
   ],
   "source": [
    "#Accpet a string as an input and check whether it is palindrome \n",
    "#or not\n",
    "s1 = input(\"enter a string\")\n",
    "if s1==s1[::-1]:\n",
    "    print(\"palindrome\")\n",
    "else:\n",
    "    print(\"not a palindrome\")"
   ]
  },
  {
   "cell_type": "code",
   "execution_count": 4,
   "metadata": {},
   "outputs": [
    {
     "name": "stdout",
     "output_type": "stream",
     "text": [
      "azc\n"
     ]
    }
   ],
   "source": [
    "s2 = \"abc\"\n",
    "s2 = s2.replace('b','z')\n",
    "print(s2)"
   ]
  },
  {
   "cell_type": "markdown",
   "metadata": {},
   "source": [
    "### Accept a string from the user and count the \n",
    "1. no.of alphabets\n",
    "2. no.of digits\n",
    "3. no.of lower case characters\n",
    "4. no.of upper case characters\n",
    "5. no.of vowels in the given string"
   ]
  },
  {
   "cell_type": "code",
   "execution_count": 8,
   "metadata": {},
   "outputs": [
    {
     "name": "stdout",
     "output_type": "stream",
     "text": [
      "enter a stringpYthOn123\n",
      "6 3 4 2 1\n"
     ]
    }
   ],
   "source": [
    "s3 = input(\"enter a string\")#pYthOn123\n",
    "vowels = \"aeiouAEIOU\"\n",
    "alphabets = 0\n",
    "digits = 0\n",
    "lower = 0\n",
    "upper = 0\n",
    "v = 0\n",
    "for i in s3:\n",
    "    if i.isalpha():\n",
    "        alphabets+=1\n",
    "    if i.isdigit():\n",
    "        digits+=1\n",
    "    if i.islower():\n",
    "        lower+=1\n",
    "    if i.isupper():\n",
    "        upper+=1\n",
    "    if (i in vowels):\n",
    "        v+=1\n",
    "print(alphabets,digits,lower,upper,v)            "
   ]
  },
  {
   "cell_type": "code",
   "execution_count": 10,
   "metadata": {},
   "outputs": [
    {
     "name": "stdout",
     "output_type": "stream",
     "text": [
      "<class 'tuple'>\n"
     ]
    }
   ],
   "source": [
    "#List:\n",
    "x = 10,20,30\n",
    "print(type(x))"
   ]
  },
  {
   "cell_type": "code",
   "execution_count": 17,
   "metadata": {},
   "outputs": [
    {
     "data": {
      "text/plain": [
       "[1, 100, 2, 3, 4, 5, 6, 7]"
      ]
     },
     "execution_count": 17,
     "metadata": {},
     "output_type": "execute_result"
    }
   ],
   "source": [
    "list1 = [1,2,3]\n",
    "list1.append(4)\n",
    "list1.insert(1,100)\n",
    "list1.extend([5,6,7])\n",
    "list1"
   ]
  },
  {
   "cell_type": "code",
   "execution_count": 18,
   "metadata": {},
   "outputs": [
    {
     "data": {
      "text/plain": [
       "[1, 2, 3, 4, 5, 6, 7]"
      ]
     },
     "execution_count": 18,
     "metadata": {},
     "output_type": "execute_result"
    }
   ],
   "source": [
    "list1.remove(100)\n",
    "list1"
   ]
  },
  {
   "cell_type": "code",
   "execution_count": 19,
   "metadata": {},
   "outputs": [
    {
     "data": {
      "text/plain": [
       "3"
      ]
     },
     "execution_count": 19,
     "metadata": {},
     "output_type": "execute_result"
    }
   ],
   "source": [
    "list1.pop(2)"
   ]
  },
  {
   "cell_type": "code",
   "execution_count": 21,
   "metadata": {},
   "outputs": [
    {
     "data": {
      "text/plain": [
       "[]"
      ]
     },
     "execution_count": 21,
     "metadata": {},
     "output_type": "execute_result"
    }
   ],
   "source": [
    "list1.clear()\n",
    "list1"
   ]
  },
  {
   "cell_type": "code",
   "execution_count": null,
   "metadata": {},
   "outputs": [],
   "source": []
  },
  {
   "cell_type": "code",
   "execution_count": 6,
   "metadata": {},
   "outputs": [
    {
     "name": "stdout",
     "output_type": "stream",
     "text": [
      "296\n"
     ]
    }
   ],
   "source": [
    "list1 = [11,20,33,41,5,6,7,8,91,100]\n",
    "#output:296\n",
    "s = sum(list1)\n",
    "s1 = 0\n",
    "for i in range(list1.index(5),list1.index(8)+1):\n",
    "    s1 += list1[i]\n",
    "print(s-s1)\n"
   ]
  },
  {
   "cell_type": "code",
   "execution_count": 24,
   "metadata": {},
   "outputs": [
    {
     "name": "stdout",
     "output_type": "stream",
     "text": [
      "hyderabad\n"
     ]
    }
   ],
   "source": [
    "list2 = ['gitam','hyderabad','vizag','banglore']\n",
    "maximum = list2[0]\n",
    "for i in list2:\n",
    "    if len(i)>len(maximum):\n",
    "        maximum=i \n",
    "print(maximum)"
   ]
  },
  {
   "cell_type": "code",
   "execution_count": 28,
   "metadata": {},
   "outputs": [
    {
     "name": "stdout",
     "output_type": "stream",
     "text": [
      "hyderabad\n"
     ]
    },
    {
     "data": {
      "text/plain": [
       "[5, 9, 5, 8]"
      ]
     },
     "execution_count": 28,
     "metadata": {},
     "output_type": "execute_result"
    }
   ],
   "source": [
    "list3 = []\n",
    "for i in list2:\n",
    "    list3.append(len(i))\n",
    "#list comprehension\n",
    "list4 = [len(i) for i in list2] \n",
    "\n",
    "print(list2[list3.index(max(list3))])\n",
    "list4"
   ]
  },
  {
   "cell_type": "code",
   "execution_count": null,
   "metadata": {},
   "outputs": [],
   "source": []
  }
 ],
 "metadata": {
  "kernelspec": {
   "display_name": "Python 3",
   "language": "python",
   "name": "python3"
  },
  "language_info": {
   "codemirror_mode": {
    "name": "ipython",
    "version": 3
   },
   "file_extension": ".py",
   "mimetype": "text/x-python",
   "name": "python",
   "nbconvert_exporter": "python",
   "pygments_lexer": "ipython3",
   "version": "3.7.3"
  }
 },
 "nbformat": 4,
 "nbformat_minor": 2
}
