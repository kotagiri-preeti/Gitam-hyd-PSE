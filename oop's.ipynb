{
 "cells": [
  {
   "cell_type": "code",
   "execution_count": 1,
   "metadata": {},
   "outputs": [
    {
     "name": "stdout",
     "output_type": "stream",
     "text": [
      "30\n",
      "30\n",
      "None\n"
     ]
    }
   ],
   "source": [
    "#functions:\n",
    "def add(x,y):\n",
    "    return x+y\n",
    "def add1(x,y):\n",
    "    print(x+y)\n",
    "print(add(10,20))\n",
    "print(add1(10,20))"
   ]
  },
  {
   "cell_type": "code",
   "execution_count": 29,
   "metadata": {},
   "outputs": [
    {
     "name": "stdout",
     "output_type": "stream",
     "text": [
      "display method 10 10\n",
      "addition is: 300\n",
      "display method 10 10\n",
      "addition is: 300\n",
      "display method 10 10\n",
      "addition is: 3\n",
      "10\n",
      "1000\n",
      "20\n"
     ]
    }
   ],
   "source": [
    "class Abc:\n",
    "    x = 10 #class variable\n",
    "    __y = 20 #private member\n",
    "    def __init__(self,a,b):\n",
    "        self.a=a\n",
    "        self.b=b\n",
    "    def display(self):\n",
    "        a = 10 #instance variable\n",
    "        print(\"display method\",a,Abc.x)\n",
    "        print(\"addition is:\",self.a+self.b)\n",
    "a = Abc(100,200)\n",
    "#method1\n",
    "a.display()\n",
    "#method2\n",
    "Abc.display(a) \n",
    "#method3\n",
    "Abc(1,2).display()\n",
    "#Accessing a class member outside the class\n",
    "print(a.x)\n",
    "a.x=1000\n",
    "print(a.x)\n",
    "#Accessing a class private member outside the class \n",
    "print(a._Abc__y)"
   ]
  },
  {
   "cell_type": "code",
   "execution_count": 25,
   "metadata": {},
   "outputs": [
    {
     "name": "stdout",
     "output_type": "stream",
     "text": [
      "class B init \n",
      "class C init vaues are 10 20\n"
     ]
    }
   ],
   "source": [
    "class A:\n",
    "    def __init__(self):\n",
    "        pass\n",
    "class B:\n",
    "    def __init__(self):\n",
    "        print(\"class B init \")\n",
    "class C:\n",
    "    def __init__(self,a,b):\n",
    "        print(\"class C init vaues are\",a,b)\n",
    "\n",
    "a = A()\n",
    "b = B()\n",
    "c = C(10,20)"
   ]
  },
  {
   "cell_type": "code",
   "execution_count": 27,
   "metadata": {},
   "outputs": [
    {
     "name": "stdout",
     "output_type": "stream",
     "text": [
      "no.of objects: 3\n"
     ]
    }
   ],
   "source": [
    "class A:\n",
    "    count = 0\n",
    "    def __init__(self):\n",
    "        A.count+=1\n",
    "\n",
    "a = A()\n",
    "b = A()\n",
    "c = A()\n",
    "print(\"no.of objects:\",A.count)"
   ]
  },
  {
   "cell_type": "code",
   "execution_count": null,
   "metadata": {},
   "outputs": [],
   "source": []
  }
 ],
 "metadata": {
  "kernelspec": {
   "display_name": "Python 3",
   "language": "python",
   "name": "python3"
  },
  "language_info": {
   "codemirror_mode": {
    "name": "ipython",
    "version": 3
   },
   "file_extension": ".py",
   "mimetype": "text/x-python",
   "name": "python",
   "nbconvert_exporter": "python",
   "pygments_lexer": "ipython3",
   "version": "3.7.3"
  }
 },
 "nbformat": 4,
 "nbformat_minor": 2
}
